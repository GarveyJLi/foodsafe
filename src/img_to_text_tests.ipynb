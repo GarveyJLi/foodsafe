{
 "cells": [
  {
   "cell_type": "code",
   "execution_count": 1,
   "metadata": {},
   "outputs": [],
   "source": [
    "from PIL import Image\n",
    "import pytesseract\n",
    "import os\n",
    "from pillow_heif import register_heif_opener\n",
    "register_heif_opener()\n",
    "\n"
   ]
  },
  {
   "cell_type": "code",
   "execution_count": 2,
   "metadata": {},
   "outputs": [
    {
     "name": "stdout",
     "output_type": "stream",
     "text": [
      "Converted ../data/IMG_5978.HEIC to ../data/IMG_5978.PNG\n"
     ]
    }
   ],
   "source": [
    "# Image formatting\n",
    "def heic_to_png(heic_filepath, png_filepath=None, overwrite=True):\n",
    "    if not png_filepath:\n",
    "        png_filepath = '.'.join(heic_filepath.split('.')[:-1]+ ['PNG'])\n",
    "    if os.path.exists(png_filepath) and not overwrite:\n",
    "        print('File already exists')\n",
    "        return png_filepath\n",
    "    try:\n",
    "        image = Image.open(heic_filepath)\n",
    "        image.save(png_filepath, \"PNG\")\n",
    "        print(f\"Converted {heic_filepath} to {png_filepath}\")\n",
    "        return png_filepath\n",
    "    except Exception as e:\n",
    "        print(f\"Error converting {heic_filepath}: {e}\")\n",
    "    \n",
    "\n",
    "# Example usage:\n",
    "heic_file = os.path.join('..', 'data', 'IMG_5978.HEIC')\n",
    "png_file = heic_to_png(heic_file)\n"
   ]
  },
  {
   "cell_type": "code",
   "execution_count": null,
   "metadata": {},
   "outputs": [],
   "source": [
    "# Set the path to the Tesseract executable (if not in PATH)\n",
    "# pytesseract.pytesseract.tesseract_cmd = r'<full_path_to_your_tesseract_executable>'\n",
    "\n",
    "# Load the image\n",
    "image = Image.open(png_file)\n",
    "\n",
    "# Perform OCR and extract text\n",
    "text = pytesseract.image_to_string(image)\n",
    "\n",
    "# Print the extracted text\n",
    "print(text)\n"
   ]
  },
  {
   "cell_type": "code",
   "execution_count": null,
   "metadata": {},
   "outputs": [],
   "source": []
  }
 ],
 "metadata": {
  "kernelspec": {
   "display_name": "cv",
   "language": "python",
   "name": "python3"
  },
  "language_info": {
   "codemirror_mode": {
    "name": "ipython",
    "version": 3
   },
   "file_extension": ".py",
   "mimetype": "text/x-python",
   "name": "python",
   "nbconvert_exporter": "python",
   "pygments_lexer": "ipython3",
   "version": "3.10.16"
  }
 },
 "nbformat": 4,
 "nbformat_minor": 2
}
